{
 "cells": [
  {
   "cell_type": "code",
   "execution_count": 1,
   "metadata": {},
   "outputs": [],
   "source": [
    "tokens=[[]]\n",
    "f = open(\"output.txt\", 'r')\n",
    "for line in f:\n",
    "    s=line.split(',')\n",
    "    s[1]=s[1][1:-1]\n",
    "    tokens.append(s)\n",
    "del tokens[0]"
   ]
  },
  {
   "cell_type": "code",
   "execution_count": 2,
   "metadata": {},
   "outputs": [],
   "source": [
    "for lst in tokens:\n",
    "    if lst[1]==\"reserved word\" or lst[1]== \"special symbol\":\n",
    "        lst[1]=lst[0]\n",
    "        "
   ]
  },
  {
   "cell_type": "code",
   "execution_count": 3,
   "metadata": {},
   "outputs": [
    {
     "data": {
      "text/plain": [
       "[['read', 'read'],\n",
       " ['x', 'identifier'],\n",
       " [';', ';'],\n",
       " ['if', 'if'],\n",
       " ['0', 'Number'],\n",
       " ['<', '<'],\n",
       " ['x', 'identifier'],\n",
       " ['then', 'then'],\n",
       " ['fact', 'identifier'],\n",
       " [':=', ':='],\n",
       " ['1', 'Number'],\n",
       " [';', ';'],\n",
       " ['repeat', 'repeat'],\n",
       " ['fact', 'identifier'],\n",
       " [':=', ':='],\n",
       " ['fact', 'identifier'],\n",
       " ['*', '*'],\n",
       " ['x', 'identifier'],\n",
       " [';', ';'],\n",
       " ['x', 'identifier'],\n",
       " [':=', ':='],\n",
       " ['x', 'identifier'],\n",
       " ['-', '-'],\n",
       " ['1', 'Number'],\n",
       " ['until', 'until'],\n",
       " ['x', 'identifier'],\n",
       " ['=', '='],\n",
       " ['0', 'Number'],\n",
       " [';', ';'],\n",
       " ['write', 'write'],\n",
       " ['fact', 'identifier'],\n",
       " ['end', 'end'],\n",
       " ['ahmed', 'identifier'],\n",
       " ['=', '='],\n",
       " ['25', 'Number'],\n",
       " ['*', '*'],\n",
       " ['8', 'Number'],\n",
       " ['+', '+'],\n",
       " ['3', 'Number'],\n",
       " [';', ';'],\n",
       " ['if', 'if'],\n",
       " ['ahmed', 'identifier'],\n",
       " ['=', '='],\n",
       " ['(', '('],\n",
       " ['x', 'identifier'],\n",
       " ['+', '+'],\n",
       " ['5', 'Number'],\n",
       " [')', ')'],\n",
       " ['then', 'then'],\n",
       " ['ahmed', 'identifier'],\n",
       " [':=', ':='],\n",
       " ['x', 'identifier']]"
      ]
     },
     "execution_count": 3,
     "metadata": {},
     "output_type": "execute_result"
    }
   ],
   "source": [
    "index=0\n",
    "node_index=0\n",
    "nodes=[]\n",
    "tokens"
   ]
  },
  {
   "cell_type": "code",
   "execution_count": 4,
   "metadata": {},
   "outputs": [],
   "source": [
    "from graphviz import Digraph\n",
    "\n",
    "p = Digraph('unix', filename='parser.gv')\n",
    "p.attr(size='6,6')\n",
    "p.node_attr.update(color='lightblue2', style='filled')"
   ]
  },
  {
   "cell_type": "code",
   "execution_count": 5,
   "metadata": {},
   "outputs": [],
   "source": [
    "class node :\n",
    "    my_index=0\n",
    "    father_index=0\n",
    "    content=\"\""
   ]
  },
  {
   "cell_type": "code",
   "execution_count": 6,
   "metadata": {},
   "outputs": [],
   "source": [
    "def match(token) :\n",
    "    global index\n",
    "    if token==tokens[index][1]:\n",
    "        index+=1\n",
    "        print(token)\n",
    "        return 1\n",
    "    else:\n",
    "        print(token,\"/// errrorrrr ////\")\n",
    "        return 0\n",
    "    "
   ]
  },
  {
   "cell_type": "code",
   "execution_count": 7,
   "metadata": {},
   "outputs": [],
   "source": [
    "def stm():\n",
    "    global index\n",
    "    if tokens[index][1]==\"read\":\n",
    "        read()\n",
    "    elif tokens[index][1]==\"if\":\n",
    "        if_stm()\n",
    "    elif tokens[index][1]==\"repeat\":\n",
    "        repeat()\n",
    "    elif tokens[index][1]==\"identifier\":\n",
    "        assign()\n",
    "    elif tokens[index][1]==\"write\":\n",
    "        write()\n",
    "    else:\n",
    "        print(\"Token error\")"
   ]
  },
  {
   "cell_type": "code",
   "execution_count": 8,
   "metadata": {},
   "outputs": [],
   "source": [
    "def stmnt_seq():\n",
    "    global index\n",
    "    while(1):\n",
    "        stm()\n",
    "        if(tokens[index][1]!=\";\"):\n",
    "            break\n",
    "        match(\";\")"
   ]
  },
  {
   "cell_type": "code",
   "execution_count": 9,
   "metadata": {},
   "outputs": [],
   "source": [
    "def read(father_index=0):\n",
    "    global node_index\n",
    "    match(\"read\")\n",
    "    content=\"read \"+\"\\n\" +\"(\"+str(tokens[index][0])+\")\"\n",
    "    my_index=node_index\n",
    "    node_index+=1\n",
    "    n=node()\n",
    "    n.my_index=my_index\n",
    "    n.content=content\n",
    "    n.father_index=father_index\n",
    "    nodes.append(n)\n",
    "    match(\"identifier\")\n",
    "    \n",
    "\n",
    "def factor(father_index):\n",
    "    global index\n",
    "    if(tokens[index][1]==\"identifier\"):\n",
    "        match(tokens[index][1])\n",
    "        \n",
    "    elif(tokens[index][1]==\"Number\"):\n",
    "        match(tokens[index][1])\n",
    "        \n",
    "    elif(tokens[index][1]==\"(\"):\n",
    "        match(\"(\")\n",
    "        exp()\n",
    "        match(\")\")\n",
    "    else:\n",
    "        print(\"token error\")\n",
    "        \n",
    "        \n",
    "def term(father_index):\n",
    "    global index\n",
    "    factor()\n",
    "    while(tokens[index][1]==\"*\" or tokens[index][1]==\"/\"):\n",
    "        match(tokens[index][1])\n",
    "        factor()\n",
    "    \n",
    "def simple_exp(father_index,addop_index):\n",
    "    #(x+10*Y)\n",
    "    #10+20-30-45\n",
    "    global index\n",
    "    global node_index\n",
    "    \n",
    "    if(len(addop_index)==0):\n",
    "        term(father_index) \n",
    "    \n",
    "    \n",
    "            \n",
    "    else:\n",
    "        addop_nodes=[]\n",
    "        \n",
    "\n",
    "        for i in range(len(addop_index)-1,-1,-1):\n",
    "            \n",
    "            content=\"op\"+\"\\n\" +\"(\"+str(tokens[i][1])+\")\"\n",
    "            my_index=node_index\n",
    "            node_index+=1\n",
    "            n=node()\n",
    "            n.my_index=my_index\n",
    "            n.content=content\n",
    "            n.father_index=father_index\n",
    "            nodes.append(n)\n",
    "            addop_nodes.append(n)\n",
    "            father_index=my_index\n",
    "                \n",
    "        #8+39-30+60-20  \n",
    "        term(addop_nodes[len(addop_nodes)-1].my_index)  \n",
    "        for i in range(len(addop_index)):\n",
    "            match(tokens[index][1])\n",
    "            term(addop_nodes[len(addop_nodes)-1-i].my_index)\n",
    "            \n",
    " #              -\n",
    " #           +      20\n",
    " #         -    60\n",
    " #       +    30     \n",
    " #     8   39       \n",
    "                \n",
    "            \n",
    "         \n",
    "def exp (father_index):\n",
    "    # ((x+10)+Y) < 10\n",
    "    global index\n",
    "    global node_index\n",
    "    \n",
    "    addop_index=[]\n",
    "    check_index=index\n",
    "    while(tokens[check_index]!=\"<\" and tokens[check_index]!='=' and tokens[check_index]!='then'):\n",
    "        if(tokens[check_index]==\"+\" or tokens[check_index]==\"-\" ):\n",
    "            addop_index.append(check_index)\n",
    "        check_index+=1    \n",
    "    \n",
    "    addop_index2=[]        \n",
    "    if(tokens[check_index]=='<' or tokens[check_index]=='='):\n",
    "        while(tokens[check_index]!='then'):\n",
    "            if(tokens[check_index]==\"+\" or tokens[check_index]==\"-\" ):\n",
    "                addop_index2.append(check_index)\n",
    "            check_index+=1\n",
    "        \n",
    "        \n",
    "    \n",
    "    \n",
    "    my_index=node_index\n",
    "    node_index+=1\n",
    "    n=node()\n",
    "    n.my_index=my_index\n",
    "    n.father_index=father_index\n",
    "    nodes.append(n)\n",
    "    \n",
    "    simple_exp(father_index=my_index,addop_index)\n",
    "    if(tokens[index][1]==\"<\" ):\n",
    "        match(tokens[index][1])\n",
    "        nodes[my_index].content=\"op\"+\"\\n\"+\"(<)\"\n",
    "        simple_exp(father_index=my_index,addop_index2)\n",
    "    elif(tokens[index][1]==\"=\" ):\n",
    "        match(tokens[index][1])\n",
    "        nodes[my_index].content=\"op\"+\"\\n\"+\"(=)\"\n",
    "        simple_exp(father_index=my_index,addop_index2)\n",
    "    \n",
    "def if_stm(father_index=0):\n",
    "    global index\n",
    "    global node_index\n",
    "    match(\"if\")\n",
    "    \n",
    "    content=\"if\"\n",
    "    my_index=node_index\n",
    "    node_index+=1\n",
    "    n=node()\n",
    "    n.my_index=my_index\n",
    "    n.content=content\n",
    "    n.father_index=father_index\n",
    "    nodes.append(n)\n",
    "    \n",
    "    \n",
    "    exp(father_index=my_index)\n",
    "    match(\"then\")\n",
    "    stmnt_seq(father_index=my_index)\n",
    "    if(tokens[index][1]==\"else\"):\n",
    "        match(\"else\")\n",
    "        stmnt_seq(father_index=my_index)\n",
    "    match(\"end\")\n",
    "    \n",
    "def write():\n",
    "    match(\"write\")\n",
    "    exp()\n",
    "    \n",
    "def repeat():\n",
    "    match(\"repeat\")\n",
    "    stmnt_seq()\n",
    "    match(\"until\")\n",
    "    exp()\n",
    "\n",
    "def assign():\n",
    "    match(\"identifier\")\n",
    "    match(\":=\")\n",
    "    exp()"
   ]
  },
  {
   "cell_type": "code",
   "execution_count": 10,
   "metadata": {},
   "outputs": [
    {
     "name": "stdout",
     "output_type": "stream",
     "text": [
      "read\n",
      "identifier\n",
      ";\n",
      "if\n"
     ]
    },
    {
     "ename": "TypeError",
     "evalue": "factor() missing 1 required positional argument: 'father_index'",
     "output_type": "error",
     "traceback": [
      "\u001b[1;31m---------------------------------------------------------------------------\u001b[0m",
      "\u001b[1;31mTypeError\u001b[0m                                 Traceback (most recent call last)",
      "\u001b[1;32m<ipython-input-10-34587093ca04>\u001b[0m in \u001b[0;36m<module>\u001b[1;34m()\u001b[0m\n\u001b[1;32m----> 1\u001b[1;33m \u001b[0mstmnt_seq\u001b[0m\u001b[1;33m(\u001b[0m\u001b[1;33m)\u001b[0m\u001b[1;33m\u001b[0m\u001b[0m\n\u001b[0m",
      "\u001b[1;32m<ipython-input-8-0cefa1319702>\u001b[0m in \u001b[0;36mstmnt_seq\u001b[1;34m()\u001b[0m\n\u001b[0;32m      2\u001b[0m     \u001b[1;32mglobal\u001b[0m \u001b[0mindex\u001b[0m\u001b[1;33m\u001b[0m\u001b[0m\n\u001b[0;32m      3\u001b[0m     \u001b[1;32mwhile\u001b[0m\u001b[1;33m(\u001b[0m\u001b[1;36m1\u001b[0m\u001b[1;33m)\u001b[0m\u001b[1;33m:\u001b[0m\u001b[1;33m\u001b[0m\u001b[0m\n\u001b[1;32m----> 4\u001b[1;33m         \u001b[0mstm\u001b[0m\u001b[1;33m(\u001b[0m\u001b[1;33m)\u001b[0m\u001b[1;33m\u001b[0m\u001b[0m\n\u001b[0m\u001b[0;32m      5\u001b[0m         \u001b[1;32mif\u001b[0m\u001b[1;33m(\u001b[0m\u001b[0mtokens\u001b[0m\u001b[1;33m[\u001b[0m\u001b[0mindex\u001b[0m\u001b[1;33m]\u001b[0m\u001b[1;33m[\u001b[0m\u001b[1;36m1\u001b[0m\u001b[1;33m]\u001b[0m\u001b[1;33m!=\u001b[0m\u001b[1;34m\";\"\u001b[0m\u001b[1;33m)\u001b[0m\u001b[1;33m:\u001b[0m\u001b[1;33m\u001b[0m\u001b[0m\n\u001b[0;32m      6\u001b[0m             \u001b[1;32mbreak\u001b[0m\u001b[1;33m\u001b[0m\u001b[0m\n",
      "\u001b[1;32m<ipython-input-7-f1ca87bde247>\u001b[0m in \u001b[0;36mstm\u001b[1;34m()\u001b[0m\n\u001b[0;32m      4\u001b[0m         \u001b[0mread\u001b[0m\u001b[1;33m(\u001b[0m\u001b[1;33m)\u001b[0m\u001b[1;33m\u001b[0m\u001b[0m\n\u001b[0;32m      5\u001b[0m     \u001b[1;32melif\u001b[0m \u001b[0mtokens\u001b[0m\u001b[1;33m[\u001b[0m\u001b[0mindex\u001b[0m\u001b[1;33m]\u001b[0m\u001b[1;33m[\u001b[0m\u001b[1;36m1\u001b[0m\u001b[1;33m]\u001b[0m\u001b[1;33m==\u001b[0m\u001b[1;34m\"if\"\u001b[0m\u001b[1;33m:\u001b[0m\u001b[1;33m\u001b[0m\u001b[0m\n\u001b[1;32m----> 6\u001b[1;33m         \u001b[0mif_stm\u001b[0m\u001b[1;33m(\u001b[0m\u001b[1;33m)\u001b[0m\u001b[1;33m\u001b[0m\u001b[0m\n\u001b[0m\u001b[0;32m      7\u001b[0m     \u001b[1;32melif\u001b[0m \u001b[0mtokens\u001b[0m\u001b[1;33m[\u001b[0m\u001b[0mindex\u001b[0m\u001b[1;33m]\u001b[0m\u001b[1;33m[\u001b[0m\u001b[1;36m1\u001b[0m\u001b[1;33m]\u001b[0m\u001b[1;33m==\u001b[0m\u001b[1;34m\"repeat\"\u001b[0m\u001b[1;33m:\u001b[0m\u001b[1;33m\u001b[0m\u001b[0m\n\u001b[0;32m      8\u001b[0m         \u001b[0mrepeat\u001b[0m\u001b[1;33m(\u001b[0m\u001b[1;33m)\u001b[0m\u001b[1;33m\u001b[0m\u001b[0m\n",
      "\u001b[1;32m<ipython-input-9-afff51ee5544>\u001b[0m in \u001b[0;36mif_stm\u001b[1;34m(father_index)\u001b[0m\n\u001b[0;32m    106\u001b[0m \u001b[1;33m\u001b[0m\u001b[0m\n\u001b[0;32m    107\u001b[0m \u001b[1;33m\u001b[0m\u001b[0m\n\u001b[1;32m--> 108\u001b[1;33m     \u001b[0mexp\u001b[0m\u001b[1;33m(\u001b[0m\u001b[0mfather_index\u001b[0m\u001b[1;33m=\u001b[0m\u001b[0mmy_index\u001b[0m\u001b[1;33m)\u001b[0m\u001b[1;33m\u001b[0m\u001b[0m\n\u001b[0m\u001b[0;32m    109\u001b[0m     \u001b[0mmatch\u001b[0m\u001b[1;33m(\u001b[0m\u001b[1;34m\"then\"\u001b[0m\u001b[1;33m)\u001b[0m\u001b[1;33m\u001b[0m\u001b[0m\n\u001b[0;32m    110\u001b[0m     \u001b[0mstmnt_seq\u001b[0m\u001b[1;33m(\u001b[0m\u001b[0mfather_index\u001b[0m\u001b[1;33m=\u001b[0m\u001b[0mmy_index\u001b[0m\u001b[1;33m)\u001b[0m\u001b[1;33m\u001b[0m\u001b[0m\n",
      "\u001b[1;32m<ipython-input-9-afff51ee5544>\u001b[0m in \u001b[0;36mexp\u001b[1;34m(father_index)\u001b[0m\n\u001b[0;32m     81\u001b[0m     \u001b[0mnodes\u001b[0m\u001b[1;33m.\u001b[0m\u001b[0mappend\u001b[0m\u001b[1;33m(\u001b[0m\u001b[0mn\u001b[0m\u001b[1;33m)\u001b[0m\u001b[1;33m\u001b[0m\u001b[0m\n\u001b[0;32m     82\u001b[0m \u001b[1;33m\u001b[0m\u001b[0m\n\u001b[1;32m---> 83\u001b[1;33m     \u001b[0msimple_exp\u001b[0m\u001b[1;33m(\u001b[0m\u001b[0mfather_index\u001b[0m\u001b[1;33m=\u001b[0m\u001b[0mmy_index\u001b[0m\u001b[1;33m)\u001b[0m\u001b[1;33m\u001b[0m\u001b[0m\n\u001b[0m\u001b[0;32m     84\u001b[0m     \u001b[1;32mif\u001b[0m\u001b[1;33m(\u001b[0m\u001b[0mtokens\u001b[0m\u001b[1;33m[\u001b[0m\u001b[0mindex\u001b[0m\u001b[1;33m]\u001b[0m\u001b[1;33m[\u001b[0m\u001b[1;36m1\u001b[0m\u001b[1;33m]\u001b[0m\u001b[1;33m==\u001b[0m\u001b[1;34m\"<\"\u001b[0m \u001b[1;33m)\u001b[0m\u001b[1;33m:\u001b[0m\u001b[1;33m\u001b[0m\u001b[0m\n\u001b[0;32m     85\u001b[0m         \u001b[0mmatch\u001b[0m\u001b[1;33m(\u001b[0m\u001b[0mtokens\u001b[0m\u001b[1;33m[\u001b[0m\u001b[0mindex\u001b[0m\u001b[1;33m]\u001b[0m\u001b[1;33m[\u001b[0m\u001b[1;36m1\u001b[0m\u001b[1;33m]\u001b[0m\u001b[1;33m)\u001b[0m\u001b[1;33m\u001b[0m\u001b[0m\n",
      "\u001b[1;32m<ipython-input-9-afff51ee5544>\u001b[0m in \u001b[0;36msimple_exp\u001b[1;34m(father_index)\u001b[0m\n\u001b[0;32m     49\u001b[0m \u001b[1;33m\u001b[0m\u001b[0m\n\u001b[0;32m     50\u001b[0m     \u001b[1;32melse\u001b[0m \u001b[1;33m:\u001b[0m\u001b[1;33m\u001b[0m\u001b[0m\n\u001b[1;32m---> 51\u001b[1;33m         \u001b[0mterm\u001b[0m\u001b[1;33m(\u001b[0m\u001b[0mfather_index\u001b[0m\u001b[1;33m)\u001b[0m\u001b[1;33m\u001b[0m\u001b[0m\n\u001b[0m\u001b[0;32m     52\u001b[0m     \u001b[1;32mwhile\u001b[0m\u001b[1;33m(\u001b[0m\u001b[0mtokens\u001b[0m\u001b[1;33m[\u001b[0m\u001b[0mindex\u001b[0m\u001b[1;33m]\u001b[0m\u001b[1;33m[\u001b[0m\u001b[1;36m1\u001b[0m\u001b[1;33m]\u001b[0m\u001b[1;33m==\u001b[0m\u001b[1;34m\"+\"\u001b[0m \u001b[1;32mor\u001b[0m \u001b[0mtokens\u001b[0m\u001b[1;33m[\u001b[0m\u001b[0mindex\u001b[0m\u001b[1;33m]\u001b[0m\u001b[1;33m[\u001b[0m\u001b[1;36m1\u001b[0m\u001b[1;33m]\u001b[0m\u001b[1;33m==\u001b[0m\u001b[1;34m\"-\"\u001b[0m\u001b[1;33m)\u001b[0m\u001b[1;33m:\u001b[0m\u001b[1;33m\u001b[0m\u001b[0m\n\u001b[0;32m     53\u001b[0m \u001b[1;33m\u001b[0m\u001b[0m\n",
      "\u001b[1;32m<ipython-input-9-afff51ee5544>\u001b[0m in \u001b[0;36mterm\u001b[1;34m(father_index)\u001b[0m\n\u001b[0;32m     31\u001b[0m \u001b[1;32mdef\u001b[0m \u001b[0mterm\u001b[0m\u001b[1;33m(\u001b[0m\u001b[0mfather_index\u001b[0m\u001b[1;33m)\u001b[0m\u001b[1;33m:\u001b[0m\u001b[1;33m\u001b[0m\u001b[0m\n\u001b[0;32m     32\u001b[0m     \u001b[1;32mglobal\u001b[0m \u001b[0mindex\u001b[0m\u001b[1;33m\u001b[0m\u001b[0m\n\u001b[1;32m---> 33\u001b[1;33m     \u001b[0mfactor\u001b[0m\u001b[1;33m(\u001b[0m\u001b[1;33m)\u001b[0m\u001b[1;33m\u001b[0m\u001b[0m\n\u001b[0m\u001b[0;32m     34\u001b[0m     \u001b[1;32mwhile\u001b[0m\u001b[1;33m(\u001b[0m\u001b[0mtokens\u001b[0m\u001b[1;33m[\u001b[0m\u001b[0mindex\u001b[0m\u001b[1;33m]\u001b[0m\u001b[1;33m[\u001b[0m\u001b[1;36m1\u001b[0m\u001b[1;33m]\u001b[0m\u001b[1;33m==\u001b[0m\u001b[1;34m\"*\"\u001b[0m \u001b[1;32mor\u001b[0m \u001b[0mtokens\u001b[0m\u001b[1;33m[\u001b[0m\u001b[0mindex\u001b[0m\u001b[1;33m]\u001b[0m\u001b[1;33m[\u001b[0m\u001b[1;36m1\u001b[0m\u001b[1;33m]\u001b[0m\u001b[1;33m==\u001b[0m\u001b[1;34m\"/\"\u001b[0m\u001b[1;33m)\u001b[0m\u001b[1;33m:\u001b[0m\u001b[1;33m\u001b[0m\u001b[0m\n\u001b[0;32m     35\u001b[0m         \u001b[0mmatch\u001b[0m\u001b[1;33m(\u001b[0m\u001b[0mtokens\u001b[0m\u001b[1;33m[\u001b[0m\u001b[0mindex\u001b[0m\u001b[1;33m]\u001b[0m\u001b[1;33m[\u001b[0m\u001b[1;36m1\u001b[0m\u001b[1;33m]\u001b[0m\u001b[1;33m)\u001b[0m\u001b[1;33m\u001b[0m\u001b[0m\n",
      "\u001b[1;31mTypeError\u001b[0m: factor() missing 1 required positional argument: 'father_index'"
     ]
    }
   ],
   "source": [
    "stmnt_seq()"
   ]
  },
  {
   "cell_type": "code",
   "execution_count": 12,
   "metadata": {},
   "outputs": [
    {
     "data": {
      "text/plain": [
       "'unix.gv.pdf'"
      ]
     },
     "execution_count": 12,
     "metadata": {},
     "output_type": "execute_result"
    }
   ],
   "source": [
    "p.view()\n",
    "\n",
    "u = Digraph('unix', filename='unix.gv')\n",
    "\n",
    "\n",
    "u.edge('6th Edition', 'LSX')\n",
    "u.edge('6th Edition', '1 BSD')\n",
    "u.edge('6th Edition', 'Mini Unix')\n",
    "u.edge('6th Edition', 'Wollongong')\n",
    "u.edge('6th Edition', 'Interdata')\n",
    "u.edge('PWB 1.0', 'PWB 1.2')\n",
    "u.edge('PWB 1.0', 'USG 1.0')\n",
    "u.edge('PWB 1.2', 'PWB 2.0')\n",
    "\n",
    "u.edge('6th Edition', 'PWB 1.0',constraint='false')\n",
    "\n",
    "u.edge('LSX', 'LSX1')\n",
    "u.edge('LSX', 'LSX2')\n",
    "\n",
    "u.view()\n",
    "\n",
    "\n"
   ]
  },
  {
   "cell_type": "code",
   "execution_count": 89,
   "metadata": {},
   "outputs": [
    {
     "data": {
      "text/plain": [
       "0"
      ]
     },
     "execution_count": 89,
     "metadata": {},
     "output_type": "execute_result"
    }
   ],
   "source": [
    "nodes[0].father_index"
   ]
  },
  {
   "cell_type": "code",
   "execution_count": null,
   "metadata": {},
   "outputs": [],
   "source": []
  }
 ],
 "metadata": {
  "kernelspec": {
   "display_name": "Python 3",
   "language": "python",
   "name": "python3"
  },
  "language_info": {
   "codemirror_mode": {
    "name": "ipython",
    "version": 3
   },
   "file_extension": ".py",
   "mimetype": "text/x-python",
   "name": "python",
   "nbconvert_exporter": "python",
   "pygments_lexer": "ipython3",
   "version": "3.6.5"
  }
 },
 "nbformat": 4,
 "nbformat_minor": 2
}
